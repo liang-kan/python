{
  "nbformat": 4,
  "nbformat_minor": 0,
  "metadata": {
    "colab": {
      "provenance": [],
      "authorship_tag": "ABX9TyMMKaERDfFxNE53O2mmW/C+",
      "include_colab_link": true
    },
    "kernelspec": {
      "name": "python3",
      "display_name": "Python 3"
    },
    "language_info": {
      "name": "python"
    }
  },
  "cells": [
    {
      "cell_type": "markdown",
      "metadata": {
        "id": "view-in-github",
        "colab_type": "text"
      },
      "source": [
        "<a href=\"https://colab.research.google.com/github/liang-kan/python/blob/main/2_1_2_%E8%BF%90%E7%AE%97%E7%AC%A6.ipynb\" target=\"_parent\"><img src=\"https://colab.research.google.com/assets/colab-badge.svg\" alt=\"Open In Colab\"/></a>"
      ]
    },
    {
      "cell_type": "markdown",
      "source": [
        "我们的兴趣不仅限于读取数据和写入数据。我们想在这些数据上执行数学运算，其中最简单且最有用的操作时按元素（elementwise）运算。他们将标准表量运算符应用于数组的每个元素。对于将两个数组作为输入的函数，按元素运算将二元运算符应用于两个数组中的每个对应位置的元素。我们可以基于任何从标量到标量的函数。\n",
        "注：https://zh.d2l.ai/chapter_preliminaries/ndarray.html  符号打不出来，详情参照d2l\n",
        "\n",
        "对于任意具有形状的张量，常见的标准算数运算符（+、-、*、/和**）都可以被升级为按元素运算。我们可以在同一形状的仁义两个张量上调用按元素操作。在下面的例子中，我们使用逗号来表示一个具有5个元素的元组，其中每个元素都是按照元素操作的结果。\n"
      ],
      "metadata": {
        "id": "JTn28ep1qn9L"
      }
    },
    {
      "cell_type": "code",
      "source": [
        "import torch"
      ],
      "metadata": {
        "id": "8D9FI2y-OVwt"
      },
      "execution_count": 2,
      "outputs": []
    },
    {
      "cell_type": "code",
      "source": [
        "x = torch.tensor([1.0,2,4,8])\n",
        "y = torch.tensor([2,2,2,2])\n",
        "x+y,x-y,x*y,x/y,x**y #**运算符是求幂运算"
      ],
      "metadata": {
        "colab": {
          "base_uri": "https://localhost:8080/"
        },
        "id": "-1dGNzpgOJXQ",
        "outputId": "1808b5a2-2a3c-486c-aa4d-82f99794b6f9"
      },
      "execution_count": 8,
      "outputs": [
        {
          "output_type": "execute_result",
          "data": {
            "text/plain": [
              "(tensor([ 3.,  4.,  6., 10.]),\n",
              " tensor([-1.,  0.,  2.,  6.]),\n",
              " tensor([ 2.,  4.,  8., 16.]),\n",
              " tensor([0.5000, 1.0000, 2.0000, 4.0000]),\n",
              " tensor([ 1.,  4., 16., 64.]))"
            ]
          },
          "metadata": {},
          "execution_count": 8
        }
      ]
    },
    {
      "cell_type": "markdown",
      "source": [
        "“按元素”方式可以应用更多的计算，包括像求幂这样的一元运算符。"
      ],
      "metadata": {
        "id": "G0V89t1iPBuw"
      }
    },
    {
      "cell_type": "code",
      "source": [
        "torch.exp(x)"
      ],
      "metadata": {
        "colab": {
          "base_uri": "https://localhost:8080/"
        },
        "id": "dDmRfcQTPLQe",
        "outputId": "571ea98b-0e72-4860-ccd4-04167f93757d"
      },
      "execution_count": 9,
      "outputs": [
        {
          "output_type": "execute_result",
          "data": {
            "text/plain": [
              "tensor([2.7183e+00, 7.3891e+00, 5.4598e+01, 2.9810e+03])"
            ]
          },
          "metadata": {},
          "execution_count": 9
        }
      ]
    },
    {
      "cell_type": "markdown",
      "source": [],
      "metadata": {
        "id": "n5w2UWOHPWYG"
      }
    }
  ]
}