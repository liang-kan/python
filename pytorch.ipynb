{
  "nbformat": 4,
  "nbformat_minor": 0,
  "metadata": {
    "colab": {
      "provenance": [],
      "gpuType": "T4",
      "toc_visible": true,
      "authorship_tag": "ABX9TyNHb1ivfMa6YHLHFo//eMNC",
      "include_colab_link": true
    },
    "kernelspec": {
      "name": "python3",
      "display_name": "Python 3"
    },
    "language_info": {
      "name": "python"
    },
    "accelerator": "GPU"
  },
  "cells": [
    {
      "cell_type": "markdown",
      "metadata": {
        "id": "view-in-github",
        "colab_type": "text"
      },
      "source": [
        "<a href=\"https://colab.research.google.com/github/liang-kan/python/blob/main/pytorch.ipynb\" target=\"_parent\"><img src=\"https://colab.research.google.com/assets/colab-badge.svg\" alt=\"Open In Colab\"/></a>"
      ]
    },
    {
      "cell_type": "code",
      "execution_count": null,
      "metadata": {
        "colab": {
          "base_uri": "https://localhost:8080/"
        },
        "id": "hOHaC7CkxTyc",
        "outputId": "085007c6-1e94-4f8a-d20e-0dea5f7b6722"
      },
      "outputs": [
        {
          "output_type": "execute_result",
          "data": {
            "text/plain": [
              "True"
            ]
          },
          "metadata": {},
          "execution_count": 8
        }
      ],
      "source": [
        "import torch\n",
        "torch.cuda.is_available()"
      ]
    },
    {
      "cell_type": "code",
      "source": [
        "from google.colab import drive\n",
        "drive.mount('/content/drive',force_remount=True)"
      ],
      "metadata": {
        "colab": {
          "base_uri": "https://localhost:8080/"
        },
        "id": "dcHKoSk9zD1i",
        "outputId": "2abf7232-5366-4ece-e835-578a6c486d29"
      },
      "execution_count": null,
      "outputs": [
        {
          "output_type": "stream",
          "name": "stdout",
          "text": [
            "Mounted at /content/drive\n"
          ]
        }
      ]
    },
    {
      "cell_type": "markdown",
      "source": [
        "# pytorch"
      ],
      "metadata": {
        "id": "HAurTyKxCk77"
      }
    },
    {
      "cell_type": "code",
      "source": [
        "import torch\n",
        "torch.tensor([1,2,3,4],dtype=torch.float32)"
      ],
      "metadata": {
        "colab": {
          "base_uri": "https://localhost:8080/"
        },
        "id": "oV9WifLEC7XA",
        "outputId": "d81fd74c-8177-46ce-8f17-53ebd2f18b43"
      },
      "execution_count": null,
      "outputs": [
        {
          "output_type": "execute_result",
          "data": {
            "text/plain": [
              "tensor([1., 2., 3., 4.])"
            ]
          },
          "metadata": {},
          "execution_count": 1
        }
      ]
    },
    {
      "cell_type": "code",
      "source": [
        "import numpy as np"
      ],
      "metadata": {
        "id": "lsxH3SAcDJRo"
      },
      "execution_count": null,
      "outputs": []
    },
    {
      "cell_type": "code",
      "source": [
        "torch.tensor(np.array([1,2,3,4]),dtype=torch.float32)"
      ],
      "metadata": {
        "colab": {
          "base_uri": "https://localhost:8080/"
        },
        "id": "XHSEiapMIVLn",
        "outputId": "3d6a0fb2-e3f5-4b58-ae16-4cfb2089011d"
      },
      "execution_count": null,
      "outputs": [
        {
          "output_type": "execute_result",
          "data": {
            "text/plain": [
              "tensor([1., 2., 3., 4.])"
            ]
          },
          "metadata": {},
          "execution_count": 4
        }
      ]
    },
    {
      "cell_type": "code",
      "source": [
        "torch.ones(3,4)"
      ],
      "metadata": {
        "colab": {
          "base_uri": "https://localhost:8080/"
        },
        "id": "HYU-v4BXCTBV",
        "outputId": "71b5b616-eba5-413a-8c10-4016a4bd8194"
      },
      "execution_count": null,
      "outputs": [
        {
          "output_type": "execute_result",
          "data": {
            "text/plain": [
              "tensor([[1., 1., 1., 1.],\n",
              "        [1., 1., 1., 1.],\n",
              "        [1., 1., 1., 1.]])"
            ]
          },
          "metadata": {},
          "execution_count": 8
        }
      ]
    },
    {
      "cell_type": "code",
      "source": [
        "np.linspace(0,100)"
      ],
      "metadata": {
        "colab": {
          "base_uri": "https://localhost:8080/"
        },
        "id": "JSfcSLuPJvon",
        "outputId": "fa1076b2-4f4d-4e61-e196-96340b5308b8"
      },
      "execution_count": 12,
      "outputs": [
        {
          "output_type": "execute_result",
          "data": {
            "text/plain": [
              "array([  0.        ,   2.04081633,   4.08163265,   6.12244898,\n",
              "         8.16326531,  10.20408163,  12.24489796,  14.28571429,\n",
              "        16.32653061,  18.36734694,  20.40816327,  22.44897959,\n",
              "        24.48979592,  26.53061224,  28.57142857,  30.6122449 ,\n",
              "        32.65306122,  34.69387755,  36.73469388,  38.7755102 ,\n",
              "        40.81632653,  42.85714286,  44.89795918,  46.93877551,\n",
              "        48.97959184,  51.02040816,  53.06122449,  55.10204082,\n",
              "        57.14285714,  59.18367347,  61.2244898 ,  63.26530612,\n",
              "        65.30612245,  67.34693878,  69.3877551 ,  71.42857143,\n",
              "        73.46938776,  75.51020408,  77.55102041,  79.59183673,\n",
              "        81.63265306,  83.67346939,  85.71428571,  87.75510204,\n",
              "        89.79591837,  91.83673469,  93.87755102,  95.91836735,\n",
              "        97.95918367, 100.        ])"
            ]
          },
          "metadata": {},
          "execution_count": 12
        }
      ]
    },
    {
      "cell_type": "code",
      "source": [
        "torch.linspace(0,100,2)"
      ],
      "metadata": {
        "colab": {
          "base_uri": "https://localhost:8080/"
        },
        "id": "DLynk_rqKEuu",
        "outputId": "62c84340-a1b7-498d-c276-124015807496"
      },
      "execution_count": 11,
      "outputs": [
        {
          "output_type": "execute_result",
          "data": {
            "text/plain": [
              "tensor([  0., 100.])"
            ]
          },
          "metadata": {},
          "execution_count": 11
        }
      ]
    },
    {
      "cell_type": "code",
      "source": [
        "np.random.normal(loc=10,scale=3,size=(5,6))"
      ],
      "metadata": {
        "colab": {
          "base_uri": "https://localhost:8080/"
        },
        "id": "9BF9r6ZDKI95",
        "outputId": "86069071-63de-4ce2-b651-92cfadfa2a74"
      },
      "execution_count": 13,
      "outputs": [
        {
          "output_type": "execute_result",
          "data": {
            "text/plain": [
              "array([[11.13085752, 14.31609365,  6.57180201, 12.3220394 ,  9.83761414,\n",
              "         6.80471357],\n",
              "       [10.96165637, 13.12608191, 10.74764508, 10.75809514,  7.02531396,\n",
              "         7.13436605],\n",
              "       [ 9.27100086,  9.38014259, 11.51096054, 12.94932085,  8.99220389,\n",
              "        14.44776412],\n",
              "       [ 9.48080949, 13.30827415,  8.56661074,  6.44771833,  7.30786183,\n",
              "        11.19253269],\n",
              "       [13.14936286,  9.82987275,  9.95691107,  7.78523829, 13.07327279,\n",
              "        12.32408881]])"
            ]
          },
          "metadata": {},
          "execution_count": 13
        }
      ]
    },
    {
      "cell_type": "code",
      "source": [],
      "metadata": {
        "id": "XUijzak5KZd3"
      },
      "execution_count": null,
      "outputs": []
    },
    {
      "cell_type": "markdown",
      "source": [
        "# 上面的语句可以用来确认是否开启GPU加速\n"
      ],
      "metadata": {
        "id": "4BOscKcYx2xK"
      }
    },
    {
      "cell_type": "code",
      "source": [
        "!gdown 'https://drive.google.com/uc?id=1H73TfV5gQ9ot7slSed_l-lim9X7pMRiU' --output Minori.jpg"
      ],
      "metadata": {
        "colab": {
          "base_uri": "https://localhost:8080/"
        },
        "id": "Pv3dZs7uyEdr",
        "outputId": "1a972309-5765-4d97-e04b-a8653e76a69a"
      },
      "execution_count": null,
      "outputs": [
        {
          "output_type": "stream",
          "name": "stdout",
          "text": [
            "Downloading...\n",
            "From: https://drive.google.com/uc?id=1H73TfV5gQ9ot7slSed_l-lim9X7pMRiU\n",
            "To: /content/drive/MyDrive/ML2023/Minori.jpg\n",
            "100% 382M/382M [00:03<00:00, 110MB/s]\n"
          ]
        }
      ]
    },
    {
      "cell_type": "code",
      "source": [
        "!ls"
      ],
      "metadata": {
        "colab": {
          "base_uri": "https://localhost:8080/"
        },
        "id": "M095dvVpy3P7",
        "outputId": "5a18c796-dde3-4987-a430-bd232255e6bd"
      },
      "execution_count": null,
      "outputs": [
        {
          "output_type": "stream",
          "name": "stdout",
          "text": [
            "Minori.jpg\n"
          ]
        }
      ]
    },
    {
      "cell_type": "code",
      "source": [],
      "metadata": {
        "id": "B0xvzEULCXY2"
      },
      "execution_count": null,
      "outputs": []
    },
    {
      "cell_type": "code",
      "source": [
        "%cd /content/drive/MyDrive\n",
        "!mkdir ML2023\n",
        "%cd ./ML2023"
      ],
      "metadata": {
        "colab": {
          "base_uri": "https://localhost:8080/"
        },
        "id": "WFOJnKV-z0BX",
        "outputId": "5e670be1-4215-423b-ed65-48675228595c"
      },
      "execution_count": null,
      "outputs": [
        {
          "output_type": "stream",
          "name": "stdout",
          "text": [
            "/content/drive/MyDrive\n",
            "/content/drive/MyDrive/ML2023\n"
          ]
        }
      ]
    },
    {
      "cell_type": "code",
      "source": [
        "!pwd"
      ],
      "metadata": {
        "colab": {
          "base_uri": "https://localhost:8080/"
        },
        "id": "h_QfAkLa0DQO",
        "outputId": "c6a2acb3-cfb7-4b4d-de00-cbcc996d5f9d"
      },
      "execution_count": null,
      "outputs": [
        {
          "output_type": "stream",
          "name": "stdout",
          "text": [
            "/content/drive/MyDrive/ML2023\n"
          ]
        }
      ]
    }
  ]
}