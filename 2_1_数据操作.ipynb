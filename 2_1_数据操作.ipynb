{
  "nbformat": 4,
  "nbformat_minor": 0,
  "metadata": {
    "colab": {
      "provenance": [],
      "gpuType": "T4",
      "authorship_tag": "ABX9TyPIry1e9XDpcjBGUVA+KRQg",
      "include_colab_link": true
    },
    "kernelspec": {
      "name": "python3",
      "display_name": "Python 3"
    },
    "language_info": {
      "name": "python"
    }
  },
  "cells": [
    {
      "cell_type": "markdown",
      "metadata": {
        "id": "view-in-github",
        "colab_type": "text"
      },
      "source": [
        "<a href=\"https://colab.research.google.com/github/liang-kan/python/blob/main/2_1_%E6%95%B0%E6%8D%AE%E6%93%8D%E4%BD%9C.ipynb\" target=\"_parent\"><img src=\"https://colab.research.google.com/assets/colab-badge.svg\" alt=\"Open In Colab\"/></a>"
      ]
    },
    {
      "cell_type": "markdown",
      "source": [
        "首先导入torch。虽然它被称为PyTorch，但是在代码中使用torch而不是pytorch。"
      ],
      "metadata": {
        "id": "q_j969OprbD9"
      }
    },
    {
      "cell_type": "code",
      "execution_count": 2,
      "metadata": {
        "id": "2wlzevboqK-r"
      },
      "outputs": [],
      "source": [
        "import torch"
      ]
    },
    {
      "cell_type": "markdown",
      "source": [
        "张量表示一个由数组组成的数组，这个数组可能有多个维度。具有一个轴的张量对应数学上的向量（vector）；具有两个轴的张量对应数学上的矩阵（matrix）；具有两个轴以上的张量没有特殊的数学名称。"
      ],
      "metadata": {
        "id": "V3LCOmq-rv5l"
      }
    },
    {
      "cell_type": "markdown",
      "source": [
        "首先，我们可以使用arange创建一个行向量x。这个行向量包含以0开始的前12个整数，他们默认创建为整数。也可指定创建类型为浮点数。张量中的每个值都称为张量的元素（element）。例如张量x中国呢有12个元素。除非额外指定，新的张量将存储在内存中，并采用基于CPU的计算。"
      ],
      "metadata": {
        "id": "Tf_oRGMQsUwX"
      }
    },
    {
      "cell_type": "code",
      "source": [
        "x = torch.arange(12)\n",
        "x"
      ],
      "metadata": {
        "colab": {
          "base_uri": "https://localhost:8080/"
        },
        "id": "w5mUVuGMqzEL",
        "outputId": "32fafe25-1691-4074-8377-5e4bdc42793a"
      },
      "execution_count": 7,
      "outputs": [
        {
          "output_type": "execute_result",
          "data": {
            "text/plain": [
              "tensor([ 0,  1,  2,  3,  4,  5,  6,  7,  8,  9, 10, 11])"
            ]
          },
          "metadata": {},
          "execution_count": 7
        }
      ]
    },
    {
      "cell_type": "markdown",
      "source": [
        "可以通过张量的shape属性进行访问张量（沿每个轴的长度）的形状。"
      ],
      "metadata": {
        "id": "a5wCzluGsP2A"
      }
    },
    {
      "cell_type": "code",
      "source": [
        "x.shape"
      ],
      "metadata": {
        "colab": {
          "base_uri": "https://localhost:8080/"
        },
        "id": "lyBzUUPbrPzu",
        "outputId": "7cd30674-07e8-4d7b-90a0-57fb03d7b6fa"
      },
      "execution_count": 8,
      "outputs": [
        {
          "output_type": "execute_result",
          "data": {
            "text/plain": [
              "torch.Size([12])"
            ]
          },
          "metadata": {},
          "execution_count": 8
        }
      ]
    },
    {
      "cell_type": "markdown",
      "source": [
        "如果只想知道张量中元素的总数，即形状的所有元素成绩，可以检查它的大小（size）。因为这里在处理的是一个向量，所以它的shape与它的size相同。"
      ],
      "metadata": {
        "id": "vtvC0Cl-tV_J"
      }
    },
    {
      "cell_type": "code",
      "source": [
        "x.numel()"
      ],
      "metadata": {
        "colab": {
          "base_uri": "https://localhost:8080/"
        },
        "id": "KvSvMgwdrVnZ",
        "outputId": "d8ed775d-84cd-44b0-ac69-44678ad23ed1"
      },
      "execution_count": 10,
      "outputs": [
        {
          "output_type": "execute_result",
          "data": {
            "text/plain": [
              "12"
            ]
          },
          "metadata": {},
          "execution_count": 10
        }
      ]
    },
    {
      "cell_type": "markdown",
      "source": [
        "要想改变一个张量的形状而不改变元素数量和元素值，可以调用reshape函数。例如，可以吧张量x从形状为（12,）的行向量转换为形状为（3,4）的矩阵。这个新的张量包含与转换前相同的值，但是它被看成一个3行4列的矩阵。要重点说明一下，虽然张量的形状发生了改变，但其元素值并没有变。注意通过改变张量的形状，张量的大小不会改变。"
      ],
      "metadata": {
        "id": "H_qb4mPZtxvC"
      }
    },
    {
      "cell_type": "code",
      "source": [
        "X = x.reshape(3,4)\n",
        "X"
      ],
      "metadata": {
        "colab": {
          "base_uri": "https://localhost:8080/"
        },
        "id": "WDDU3ZpNumik",
        "outputId": "350273d5-2f48-497c-931a-ddad55ee0e95"
      },
      "execution_count": 12,
      "outputs": [
        {
          "output_type": "execute_result",
          "data": {
            "text/plain": [
              "tensor([[ 0,  1,  2,  3],\n",
              "        [ 4,  5,  6,  7],\n",
              "        [ 8,  9, 10, 11]])"
            ]
          },
          "metadata": {},
          "execution_count": 12
        }
      ]
    },
    {
      "cell_type": "markdown",
      "source": [
        "我们不需要通过手动指定每个维度来改变形状。也就是说，如果我们的目标形状是（高度,宽度），那么在知道宽度后，高度会被自动计算得出，不必我们自己做除法。在上面的例子中，为了获得一个3行的矩阵，我们手动指定了它有3行和4列。幸运的是，我们可以通过-1来调用此自动计算出维度的功能。即我们可以用x.reshape(-1,4)或者x.reshape(3,-1)来取代x.reshape(3,4)。\n",
        "有时，我们希望使用全0、全1、其他常量，或者从特定分布中随机采样的数组初始化矩阵。我们可以创建一个形状为（2,3,4）的张量，其中所有元素都设置为0.代码如下："
      ],
      "metadata": {
        "id": "l4wlBpIDxJ88"
      }
    },
    {
      "cell_type": "code",
      "source": [
        "torch.zeros((2,3,4))"
      ],
      "metadata": {
        "colab": {
          "base_uri": "https://localhost:8080/"
        },
        "id": "dk4_CQ3KzYAt",
        "outputId": "ccedd23e-4e08-4bed-f409-c3b0241f2035"
      },
      "execution_count": 4,
      "outputs": [
        {
          "output_type": "execute_result",
          "data": {
            "text/plain": [
              "tensor([[[0., 0., 0., 0.],\n",
              "         [0., 0., 0., 0.],\n",
              "         [0., 0., 0., 0.]],\n",
              "\n",
              "        [[0., 0., 0., 0.],\n",
              "         [0., 0., 0., 0.],\n",
              "         [0., 0., 0., 0.]]])"
            ]
          },
          "metadata": {},
          "execution_count": 4
        }
      ]
    },
    {
      "cell_type": "markdown",
      "source": [
        "同样，我们也可以创建一个形状为（2,3,4）的张量，其中所有元素都设置为1。代码如下："
      ],
      "metadata": {
        "id": "5rjkpI5BzrDc"
      }
    },
    {
      "cell_type": "code",
      "source": [
        "torch.ones((2,3,4))"
      ],
      "metadata": {
        "colab": {
          "base_uri": "https://localhost:8080/"
        },
        "id": "3dgwA7haz4hR",
        "outputId": "a76b557c-a19b-465e-b532-0ef0adca2560"
      },
      "execution_count": 5,
      "outputs": [
        {
          "output_type": "execute_result",
          "data": {
            "text/plain": [
              "tensor([[[1., 1., 1., 1.],\n",
              "         [1., 1., 1., 1.],\n",
              "         [1., 1., 1., 1.]],\n",
              "\n",
              "        [[1., 1., 1., 1.],\n",
              "         [1., 1., 1., 1.],\n",
              "         [1., 1., 1., 1.]]])"
            ]
          },
          "metadata": {},
          "execution_count": 5
        }
      ]
    },
    {
      "cell_type": "markdown",
      "source": [
        "有时候我们想通过从某个特定的概率分布中随机采样来得到张量中每个元素的值。例如，当我们构造数组来作为神经网络中的参数时，我们通常会随机初始化参数的值。一下代码创建一个形状为（3,4）的张量。其中的每个元素都从均值为0、标准差为1的标准高斯分布（正态分布）中随机采样。"
      ],
      "metadata": {
        "id": "8es6hihG0R6h"
      }
    },
    {
      "cell_type": "code",
      "source": [
        "torch.randn(3,4)"
      ],
      "metadata": {
        "colab": {
          "base_uri": "https://localhost:8080/"
        },
        "id": "MsN3lzxOo3Hj",
        "outputId": "a4fd7f09-4a1e-40c8-d9cd-ebf10c9d3aeb"
      },
      "execution_count": 3,
      "outputs": [
        {
          "output_type": "execute_result",
          "data": {
            "text/plain": [
              "tensor([[-1.6933,  1.6428,  1.0945,  1.3431],\n",
              "        [-0.1404, -0.1800, -0.0605,  0.9265],\n",
              "        [-0.1898, -1.0185,  0.0670,  0.2265]])"
            ]
          },
          "metadata": {},
          "execution_count": 3
        }
      ]
    },
    {
      "cell_type": "markdown",
      "source": [
        "我们还可以通过提供包含数值的Python列表（或者嵌套列表），来为所需张量中的每一个元素赋予确定值。在这里最外层的列表对应于轴0，内层的列表对应于轴1。"
      ],
      "metadata": {
        "id": "F-u9JygDplIs"
      }
    },
    {
      "cell_type": "code",
      "source": [
        "torch.tensor([[2,1,4,3],[1,2,3,4],[2,4,6,8,]])"
      ],
      "metadata": {
        "colab": {
          "base_uri": "https://localhost:8080/"
        },
        "id": "N1hFq3kWp9-z",
        "outputId": "ad3068d1-7b93-49bc-84f6-cdf61e5c2187"
      },
      "execution_count": 6,
      "outputs": [
        {
          "output_type": "execute_result",
          "data": {
            "text/plain": [
              "tensor([[2, 1, 4, 3],\n",
              "        [1, 2, 3, 4],\n",
              "        [2, 4, 6, 8]])"
            ]
          },
          "metadata": {},
          "execution_count": 6
        }
      ]
    }
  ]
}